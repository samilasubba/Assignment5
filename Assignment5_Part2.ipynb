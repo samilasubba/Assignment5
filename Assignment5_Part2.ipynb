{
 "cells": [
  {
   "cell_type": "code",
   "execution_count": 1,
   "metadata": {},
   "outputs": [
    {
     "name": "stderr",
     "output_type": "stream",
     "text": [
      "Using TensorFlow backend.\n"
     ]
    }
   ],
   "source": [
    "import tensorflow as tf\n",
    "from mlxtend.data import loadlocal_mnist\n",
    "import numpy as np\n",
    "import keras\n",
    "tf.logging.set_verbosity(tf.logging.INFO)\n",
    "\n",
    "\n"
   ]
  },
  {
   "cell_type": "code",
   "execution_count": 2,
   "metadata": {},
   "outputs": [],
   "source": [
    "((train_data, train_labels),\n",
    " (test_data, test_labels)) = tf.keras.datasets.fashion_mnist.load_data()"
   ]
  },
  {
   "cell_type": "code",
   "execution_count": 3,
   "metadata": {},
   "outputs": [],
   "source": [
    "target_dict = {\n",
    " 0: 'T-shirt/top',\n",
    " 1: 'Trouser',\n",
    " 2: 'Pullover',\n",
    " 3: 'Dress',\n",
    " 4: 'Coat',\n",
    " 5: 'Sandal',\n",
    " 6: 'Shirt',\n",
    " 7: 'Sneaker',\n",
    " 8: 'Bag',\n",
    " 9: 'Ankle boot',\n",
    "}\n"
   ]
  },
  {
   "cell_type": "code",
   "execution_count": 4,
   "metadata": {},
   "outputs": [],
   "source": [
    "train_data = train_data/np.float32(255)\n",
    "train_labels = train_labels.astype(np.int32)\n",
    "\n",
    "test_data = test_data/np.float32(255)\n",
    "test_labels = test_labels.astype(np.int32)"
   ]
  },
  {
   "cell_type": "code",
   "execution_count": 5,
   "metadata": {},
   "outputs": [],
   "source": [
    "classes = 10"
   ]
  },
  {
   "cell_type": "markdown",
   "metadata": {},
   "source": [
    "# Applying dropout"
   ]
  },
  {
   "cell_type": "code",
   "execution_count": 36,
   "metadata": {},
   "outputs": [],
   "source": [
    "def cnn_model_fn(features,labels,mode): \n",
    "    #INput layer\n",
    "    input_layer=tf.reshape(features[\"x\"],[-1,28,28,1])\n",
    "    #Convolution layer 1\n",
    "    conv1=tf.layers.conv2d(inputs=input_layer,filters=32,kernel_size=[3,3],padding=\"same\",activation=tf.nn.relu)\n",
    "    #POoling layer 1\n",
    "    pool1=tf.layers.max_pooling2d(inputs=conv1,pool_size=[2,2],strides=2)\n",
    "    #Convolution layer 2\n",
    "    conv2=tf.layers.conv2d(inputs=pool1,filters=64,kernel_size=[3,3],padding=\"same\",activation=tf.nn.relu)\n",
    "    #POoling layer 2\n",
    "    pool2=tf.layers.max_pooling2d(inputs=conv2,pool_size=[2,2],strides=2)\n",
    "    conv3=tf.layers.conv2d(inputs=pool2,filters=128,kernel_size=[3,3],padding=\"same\",activation=tf.nn.relu)\n",
    "    #POoling layer 1\n",
    "    pool3=tf.layers.max_pooling2d(inputs=conv3,pool_size=[2,2],strides=2)\n",
    "    \n",
    "    #DEnse layer\n",
    "    pool3_flat=tf.reshape(pool3,[-1,3*3*128])\n",
    "    dense=tf.layers.dense(inputs=pool3_flat,units=1024,activation=tf.nn.relu)\n",
    "    dropout=tf.layers.dropout(inputs=dense,rate=0.2,training=mode==tf.estimator.ModeKeys.TRAIN)\n",
    "    #Logits Layer\n",
    "    logits=tf.layers.dense(inputs=dropout,units=10)\n",
    "    predictions={\"classes\":tf.argmax(input=logits,axis=1),\"probabilities\":tf.nn.softmax(logits,name=\"softmax_tensor\")}\n",
    "    \n",
    "    if mode==tf.estimator.ModeKeys.PREDICT:\n",
    "        return tf.estimator.EstimatorSpec(mode=mode, predictions=predictions)\n",
    "    # Calculate Loss (for both TRAIN and EVAL modes)\n",
    "    loss = tf.losses.sparse_softmax_cross_entropy(labels=labels, logits=logits, scope = 'loss')\n",
    "    # Configure the Training Op (for TRAIN mode)\n",
    "    \n",
    "    if mode == tf.estimator.ModeKeys.TRAIN:\n",
    "        optimizer = tf.train.GradientDescentOptimizer(learning_rate=0.01)\n",
    "        train_op = optimizer.minimize(loss=loss,global_step=tf.train.get_global_step())\n",
    "        return tf.estimator.EstimatorSpec(mode=mode, loss=loss, train_op=train_op)\n",
    "    # Add evaluation metrics (for EVAL mode)\n",
    "    eval_metric_ops = {\"accuracy\": tf.metrics.accuracy(labels=labels, predictions=predictions[\"classes\"])}\n",
    "    return tf.estimator.EstimatorSpec(mode=mode, loss=loss, eval_metric_ops=eval_metric_ops)\n",
    "    \n",
    "    "
   ]
  },
  {
   "cell_type": "code",
   "execution_count": 37,
   "metadata": {},
   "outputs": [],
   "source": [
    "#X_train,Y_train=loadlocal_mnist(images_path='train-images-idx3-ubyte',labels_path='train-labels-idx1-ubyte')\n",
    "#X_test,Y_test=loadlocal_mnist(images_path='t10k-images-idx3-ubyte',labels_path='t10k-labels-idx1-ubyte')"
   ]
  },
  {
   "cell_type": "code",
   "execution_count": 38,
   "metadata": {},
   "outputs": [],
   "source": [
    "#X_train = X_train.astype('float32') / 255\n",
    "#X_test = X_test.astype('float32') / 255"
   ]
  },
  {
   "cell_type": "code",
   "execution_count": 39,
   "metadata": {},
   "outputs": [],
   "source": [
    "#Y_train = np.eye(10)[Y_train.astype('int32')]\n",
    "#Y_test = np.eye(10)[Y_test.astype('int32')]"
   ]
  },
  {
   "cell_type": "code",
   "execution_count": 40,
   "metadata": {},
   "outputs": [],
   "source": [
    "#Y_train.shape"
   ]
  },
  {
   "cell_type": "code",
   "execution_count": 41,
   "metadata": {},
   "outputs": [
    {
     "name": "stdout",
     "output_type": "stream",
     "text": [
      "INFO:tensorflow:Using default config.\n",
      "WARNING:tensorflow:Using temporary folder as model directory: /tmp/tmpght3_tmz\n",
      "INFO:tensorflow:Using config: {'_model_dir': '/tmp/tmpght3_tmz', '_tf_random_seed': None, '_save_summary_steps': 100, '_save_checkpoints_steps': None, '_save_checkpoints_secs': 600, '_session_config': allow_soft_placement: true\n",
      "graph_options {\n",
      "  rewrite_options {\n",
      "    meta_optimizer_iterations: ONE\n",
      "  }\n",
      "}\n",
      ", '_keep_checkpoint_max': 5, '_keep_checkpoint_every_n_hours': 10000, '_log_step_count_steps': 100, '_train_distribute': None, '_device_fn': None, '_protocol': None, '_eval_distribute': None, '_experimental_distribute': None, '_service': None, '_cluster_spec': <tensorflow.python.training.server_lib.ClusterSpec object at 0x7f9cdee1ad30>, '_task_type': 'worker', '_task_id': 0, '_global_id_in_cluster': 0, '_master': '', '_evaluation_master': '', '_is_chief': True, '_num_ps_replicas': 0, '_num_worker_replicas': 1}\n"
     ]
    }
   ],
   "source": [
    "# Create the Estimator\n",
    "mnist_classifier = tf.estimator.Estimator(model_fn=cnn_model_fn)"
   ]
  },
  {
   "cell_type": "code",
   "execution_count": null,
   "metadata": {},
   "outputs": [],
   "source": []
  },
  {
   "cell_type": "code",
   "execution_count": 42,
   "metadata": {},
   "outputs": [
    {
     "data": {
      "text/plain": [
       "'# Set up logging for predictions\\ntensors_to_log = {\"probabilities\": \"softmax_tensor\"}\\n\\nlogging_hook = tf.train.LoggingTensorHook(\\n    tensors=tensors_to_log, every_n_iter=50)'"
      ]
     },
     "execution_count": 42,
     "metadata": {},
     "output_type": "execute_result"
    }
   ],
   "source": [
    "\"\"\"# Set up logging for predictions\n",
    "tensors_to_log = {\"probabilities\": \"softmax_tensor\"}\n",
    "\n",
    "logging_hook = tf.train.LoggingTensorHook(\n",
    "    tensors=tensors_to_log, every_n_iter=50)\"\"\""
   ]
  },
  {
   "cell_type": "code",
   "execution_count": 43,
   "metadata": {},
   "outputs": [
    {
     "name": "stdout",
     "output_type": "stream",
     "text": [
      "INFO:tensorflow:Calling model_fn.\n",
      "INFO:tensorflow:Done calling model_fn.\n",
      "INFO:tensorflow:Create CheckpointSaverHook.\n",
      "INFO:tensorflow:Graph was finalized.\n",
      "INFO:tensorflow:Running local_init_op.\n",
      "INFO:tensorflow:Done running local_init_op.\n",
      "INFO:tensorflow:Saving checkpoints for 0 into /tmp/tmpght3_tmz/model.ckpt.\n",
      "INFO:tensorflow:loss = 2.3013024, step = 1\n",
      "INFO:tensorflow:global_step/sec: 9.99334\n",
      "INFO:tensorflow:loss = 2.144712, step = 101 (10.008 sec)\n",
      "INFO:tensorflow:global_step/sec: 9.46427\n",
      "INFO:tensorflow:loss = 1.2981548, step = 201 (10.566 sec)\n",
      "INFO:tensorflow:global_step/sec: 9.28211\n",
      "INFO:tensorflow:loss = 0.98828447, step = 301 (10.773 sec)\n",
      "INFO:tensorflow:global_step/sec: 9.28535\n",
      "INFO:tensorflow:loss = 0.78056836, step = 401 (10.770 sec)\n",
      "INFO:tensorflow:global_step/sec: 9.27967\n",
      "INFO:tensorflow:loss = 0.65421057, step = 501 (10.776 sec)\n",
      "INFO:tensorflow:global_step/sec: 9.26917\n",
      "INFO:tensorflow:loss = 0.7914592, step = 601 (10.788 sec)\n",
      "INFO:tensorflow:global_step/sec: 9.01213\n",
      "INFO:tensorflow:loss = 0.9211322, step = 701 (11.096 sec)\n",
      "INFO:tensorflow:global_step/sec: 9.2547\n",
      "INFO:tensorflow:loss = 0.72544694, step = 801 (10.805 sec)\n",
      "INFO:tensorflow:global_step/sec: 9.26558\n",
      "INFO:tensorflow:loss = 0.50322556, step = 901 (10.793 sec)\n",
      "INFO:tensorflow:global_step/sec: 9.25857\n",
      "INFO:tensorflow:loss = 0.6150496, step = 1001 (10.801 sec)\n",
      "INFO:tensorflow:global_step/sec: 9.27978\n",
      "INFO:tensorflow:loss = 0.45174044, step = 1101 (10.776 sec)\n",
      "INFO:tensorflow:global_step/sec: 9.15119\n",
      "INFO:tensorflow:loss = 0.7437369, step = 1201 (10.927 sec)\n",
      "INFO:tensorflow:global_step/sec: 9.28732\n",
      "INFO:tensorflow:loss = 0.6118392, step = 1301 (10.767 sec)\n",
      "INFO:tensorflow:global_step/sec: 9.29241\n",
      "INFO:tensorflow:loss = 0.5319584, step = 1401 (10.762 sec)\n",
      "INFO:tensorflow:Saving checkpoints for 1500 into /tmp/tmpght3_tmz/model.ckpt.\n",
      "INFO:tensorflow:Loss for final step: 0.49539867.\n"
     ]
    },
    {
     "data": {
      "text/plain": [
       "<tensorflow_estimator.python.estimator.estimator.Estimator at 0x7f9cdee1aa90>"
      ]
     },
     "execution_count": 43,
     "metadata": {},
     "output_type": "execute_result"
    }
   ],
   "source": [
    "train_input_fn = tf.estimator.inputs.numpy_input_fn(\n",
    "    x={\"x\": train_data},\n",
    "    y=train_labels,\n",
    "    batch_size=128,\n",
    "    num_epochs=None,\n",
    "    shuffle=True)\n",
    "mnist_classifier.train(input_fn=train_input_fn, steps=1500)"
   ]
  },
  {
   "cell_type": "code",
   "execution_count": 44,
   "metadata": {},
   "outputs": [
    {
     "name": "stdout",
     "output_type": "stream",
     "text": [
      "INFO:tensorflow:Calling model_fn.\n",
      "INFO:tensorflow:Done calling model_fn.\n",
      "INFO:tensorflow:Starting evaluation at 2019-06-19T09:08:48Z\n",
      "INFO:tensorflow:Graph was finalized.\n",
      "INFO:tensorflow:Restoring parameters from /tmp/tmpght3_tmz/model.ckpt-1500\n",
      "INFO:tensorflow:Running local_init_op.\n",
      "INFO:tensorflow:Done running local_init_op.\n",
      "INFO:tensorflow:Finished evaluation at 2019-06-19-09:08:49\n",
      "INFO:tensorflow:Saving dict for global step 1500: accuracy = 0.7967, global_step = 1500, loss = 0.56943244\n",
      "INFO:tensorflow:Saving 'checkpoint_path' summary for global step 1500: /tmp/tmpght3_tmz/model.ckpt-1500\n",
      "{'accuracy': 0.7967, 'loss': 0.56943244, 'global_step': 1500}\n"
     ]
    }
   ],
   "source": [
    "eval_input_fn = tf.estimator.inputs.numpy_input_fn(\n",
    "    x={\"x\": test_data},\n",
    "    y=test_labels,\n",
    "    num_epochs=1,\n",
    "    shuffle=False)\n",
    "\n",
    "eval_results = mnist_classifier.evaluate(input_fn=eval_input_fn)\n",
    "print(eval_results)"
   ]
  },
  {
   "cell_type": "code",
   "execution_count": null,
   "metadata": {},
   "outputs": [],
   "source": []
  },
  {
   "cell_type": "markdown",
   "metadata": {},
   "source": [
    "# Batch Normalisation"
   ]
  },
  {
   "cell_type": "code",
   "execution_count": 52,
   "metadata": {},
   "outputs": [],
   "source": [
    "def cnn_model_fn_batchnormalisation(features,labels,mode): \n",
    "    #INput layer\n",
    "    input_layer=tf.reshape(features[\"x\"],[-1,28,28,1])\n",
    "    #Convolution layer 1\n",
    "    conv1=tf.layers.conv2d(inputs=input_layer,filters=32,kernel_size=[5,5],padding=\"same\")\n",
    "    conv1=tf.layers.batch_normalization(conv1)\n",
    "    conv1=tf.nn.relu(conv1)\n",
    "    \n",
    "    #POoling layer 1\n",
    "    pool1=tf.layers.max_pooling2d(inputs=conv1,pool_size=[2,2],strides=2)\n",
    "    #Convolution layer 2\n",
    "    conv2=tf.layers.conv2d(inputs=pool1,filters=64,kernel_size=[5,5],padding=\"same\")\n",
    "    conv2=tf.layers.batch_normalization(conv2)\n",
    "    conv2=tf.nn.relu(conv2)\n",
    "    \n",
    "    #POoling layer 2\n",
    "    pool2=tf.layers.max_pooling2d(inputs=conv2,pool_size=[2,2],strides=2)\n",
    "    #DEnse layer\n",
    "    #convoution layer 3\n",
    "    conv3=tf.layers.conv2d(inputs=pool2,filters=128,kernel_size=[5,5],padding=\"same\")\n",
    "    conv3=tf.layers.batch_normalization(conv3)\n",
    "    conv3=tf.nn.relu(conv3)\n",
    "    \n",
    "    #POoling layer 3\n",
    "    pool3=tf.layers.max_pooling2d(inputs=conv3,pool_size=[2,2],strides=2)\n",
    "    \n",
    "    pool3_flat=tf.reshape(pool3,[-1,3*3*128])\n",
    "    dense=tf.layers.dense(inputs=pool3_flat,units=1024,activation=tf.nn.relu)\n",
    "    #dropout=tf.layers.dropout(inputs=dense,rate=0.4,training=mode==tf.estimator.ModeKeys.TRAIN)\n",
    "    #Logits Layer\n",
    "    logits=tf.layers.dense(inputs=dense,units=10)\n",
    "    predictions={\"classes\":tf.argmax(input=logits,axis=1),\"probabilities\":tf.nn.softmax(logits,name=\"softmax_tensor\")}\n",
    "    \n",
    "    if mode==tf.estimator.ModeKeys.PREDICT:\n",
    "        return tf.estimator.EstimatorSpec(mode=mode, predictions=predictions)\n",
    "    # Calculate Loss (for both TRAIN and EVAL modes)\n",
    "    loss = tf.losses.sparse_softmax_cross_entropy(labels=labels, logits=logits, scope = 'loss')\n",
    "    # Configure the Training Op (for TRAIN mode)\n",
    "    \n",
    "    if mode == tf.estimator.ModeKeys.TRAIN:\n",
    "        optimizer = tf.train.GradientDescentOptimizer(learning_rate=0.01)\n",
    "        train_op = optimizer.minimize(loss=loss,global_step=tf.train.get_global_step())\n",
    "        return tf.estimator.EstimatorSpec(mode=mode, loss=loss, train_op=train_op)\n",
    "    # Add evaluation metrics (for EVAL mode)\n",
    "    eval_metric_ops = {\"accuracy\": tf.metrics.accuracy(labels=labels, predictions=predictions[\"classes\"])}\n",
    "    return tf.estimator.EstimatorSpec(mode=mode, loss=loss, eval_metric_ops=eval_metric_ops)\n",
    "    \n",
    "    "
   ]
  },
  {
   "cell_type": "code",
   "execution_count": 53,
   "metadata": {},
   "outputs": [
    {
     "name": "stdout",
     "output_type": "stream",
     "text": [
      "INFO:tensorflow:Using default config.\n",
      "WARNING:tensorflow:Using temporary folder as model directory: /tmp/tmp4767yda5\n",
      "INFO:tensorflow:Using config: {'_model_dir': '/tmp/tmp4767yda5', '_tf_random_seed': None, '_save_summary_steps': 100, '_save_checkpoints_steps': None, '_save_checkpoints_secs': 600, '_session_config': allow_soft_placement: true\n",
      "graph_options {\n",
      "  rewrite_options {\n",
      "    meta_optimizer_iterations: ONE\n",
      "  }\n",
      "}\n",
      ", '_keep_checkpoint_max': 5, '_keep_checkpoint_every_n_hours': 10000, '_log_step_count_steps': 100, '_train_distribute': None, '_device_fn': None, '_protocol': None, '_eval_distribute': None, '_experimental_distribute': None, '_service': None, '_cluster_spec': <tensorflow.python.training.server_lib.ClusterSpec object at 0x7f9d03247a90>, '_task_type': 'worker', '_task_id': 0, '_global_id_in_cluster': 0, '_master': '', '_evaluation_master': '', '_is_chief': True, '_num_ps_replicas': 0, '_num_worker_replicas': 1}\n"
     ]
    }
   ],
   "source": [
    "# Create the Estimator\n",
    "mnist_classifier1 = tf.estimator.Estimator(model_fn=cnn_model_fn_batchnormalisation)"
   ]
  },
  {
   "cell_type": "code",
   "execution_count": 54,
   "metadata": {},
   "outputs": [
    {
     "name": "stdout",
     "output_type": "stream",
     "text": [
      "INFO:tensorflow:Calling model_fn.\n",
      "INFO:tensorflow:Done calling model_fn.\n",
      "INFO:tensorflow:Create CheckpointSaverHook.\n",
      "INFO:tensorflow:Graph was finalized.\n",
      "INFO:tensorflow:Running local_init_op.\n",
      "INFO:tensorflow:Done running local_init_op.\n",
      "INFO:tensorflow:Saving checkpoints for 0 into /tmp/tmp4767yda5/model.ckpt.\n",
      "INFO:tensorflow:loss = 2.3001745, step = 1\n",
      "INFO:tensorflow:global_step/sec: 4.25522\n",
      "INFO:tensorflow:loss = 2.1465077, step = 101 (23.502 sec)\n",
      "INFO:tensorflow:global_step/sec: 4.34372\n",
      "INFO:tensorflow:loss = 1.1962942, step = 201 (23.022 sec)\n",
      "INFO:tensorflow:global_step/sec: 4.38753\n",
      "INFO:tensorflow:loss = 0.8965979, step = 301 (22.792 sec)\n",
      "INFO:tensorflow:global_step/sec: 4.49594\n",
      "INFO:tensorflow:loss = 0.9095679, step = 401 (22.242 sec)\n",
      "INFO:tensorflow:global_step/sec: 4.51634\n",
      "INFO:tensorflow:loss = 0.8509109, step = 501 (22.142 sec)\n",
      "INFO:tensorflow:global_step/sec: 4.37755\n",
      "INFO:tensorflow:loss = 0.78899693, step = 601 (22.844 sec)\n",
      "INFO:tensorflow:global_step/sec: 4.23131\n",
      "INFO:tensorflow:loss = 0.88230383, step = 701 (23.633 sec)\n",
      "INFO:tensorflow:global_step/sec: 4.31193\n",
      "INFO:tensorflow:loss = 0.6659323, step = 801 (23.191 sec)\n",
      "INFO:tensorflow:global_step/sec: 4.47705\n",
      "INFO:tensorflow:loss = 0.65136087, step = 901 (22.336 sec)\n",
      "INFO:tensorflow:global_step/sec: 4.17698\n",
      "INFO:tensorflow:loss = 0.56751287, step = 1001 (23.941 sec)\n",
      "INFO:tensorflow:global_step/sec: 4.57169\n",
      "INFO:tensorflow:loss = 0.51660824, step = 1101 (21.874 sec)\n",
      "INFO:tensorflow:global_step/sec: 4.63044\n",
      "INFO:tensorflow:loss = 0.8219568, step = 1201 (21.596 sec)\n",
      "INFO:tensorflow:global_step/sec: 4.36282\n",
      "INFO:tensorflow:loss = 0.52746785, step = 1301 (22.922 sec)\n",
      "INFO:tensorflow:global_step/sec: 4.42099\n",
      "INFO:tensorflow:loss = 0.6637205, step = 1401 (22.618 sec)\n",
      "INFO:tensorflow:Saving checkpoints for 1500 into /tmp/tmp4767yda5/model.ckpt.\n",
      "INFO:tensorflow:Loss for final step: 0.5803305.\n"
     ]
    },
    {
     "data": {
      "text/plain": [
       "<tensorflow_estimator.python.estimator.estimator.Estimator at 0x7f9d032472e8>"
      ]
     },
     "execution_count": 54,
     "metadata": {},
     "output_type": "execute_result"
    }
   ],
   "source": [
    "train_input_fn1 = tf.estimator.inputs.numpy_input_fn(\n",
    "    x={\"x\": train_data},\n",
    "    y=train_labels,\n",
    "    batch_size=100,\n",
    "    num_epochs=None,\n",
    "    shuffle=True)\n",
    "mnist_classifier1.train(input_fn=train_input_fn1, steps=1500)"
   ]
  },
  {
   "cell_type": "code",
   "execution_count": 55,
   "metadata": {},
   "outputs": [
    {
     "name": "stdout",
     "output_type": "stream",
     "text": [
      "INFO:tensorflow:Calling model_fn.\n",
      "INFO:tensorflow:Done calling model_fn.\n",
      "INFO:tensorflow:Starting evaluation at 2019-06-19T09:38:10Z\n",
      "INFO:tensorflow:Graph was finalized.\n",
      "INFO:tensorflow:Restoring parameters from /tmp/tmp4767yda5/model.ckpt-1500\n",
      "INFO:tensorflow:Running local_init_op.\n",
      "INFO:tensorflow:Done running local_init_op.\n",
      "INFO:tensorflow:Finished evaluation at 2019-06-19-09:38:15\n",
      "INFO:tensorflow:Saving dict for global step 1500: accuracy = 0.771, global_step = 1500, loss = 0.6083943\n",
      "INFO:tensorflow:Saving 'checkpoint_path' summary for global step 1500: /tmp/tmp4767yda5/model.ckpt-1500\n",
      "{'accuracy': 0.771, 'loss': 0.6083943, 'global_step': 1500}\n"
     ]
    }
   ],
   "source": [
    "eval_input_fn1 = tf.estimator.inputs.numpy_input_fn(\n",
    "    x={\"x\": test_data},\n",
    "    y=test_labels,\n",
    "    num_epochs=1,\n",
    "    shuffle=False)\n",
    "\n",
    "eval_results = mnist_classifier1.evaluate(input_fn=eval_input_fn1)\n",
    "print(eval_results)"
   ]
  }
 ],
 "metadata": {
  "kernelspec": {
   "display_name": "tensorflow_env",
   "language": "python",
   "name": "tensorflow_env"
  },
  "language_info": {
   "codemirror_mode": {
    "name": "ipython",
    "version": 3
   },
   "file_extension": ".py",
   "mimetype": "text/x-python",
   "name": "python",
   "nbconvert_exporter": "python",
   "pygments_lexer": "ipython3",
   "version": "3.7.3"
  }
 },
 "nbformat": 4,
 "nbformat_minor": 2
}

{
 "cells": [
  {
   "cell_type": "code",
   "execution_count": 1,
   "metadata": {},
   "outputs": [
    {
     "name": "stderr",
     "output_type": "stream",
     "text": [
      "Using TensorFlow backend.\n"
     ]
    }
   ],
   "source": [
    "import tensorflow as tf\n",
    "import pandas as pd\n",
    "import numpy as np\n",
    "import cv2\n",
    "import os\n",
    "from keras.datasets import fashion_mnist\n",
    "import matplotlib.pyplot as plt\n",
    "from sklearn.utils import shuffle\n",
    "import random\n",
    "import warnings\n",
    "warnings.filterwarnings(\"ignore\")"
   ]
  },
  {
   "cell_type": "code",
   "execution_count": 2,
   "metadata": {},
   "outputs": [
    {
     "name": "stdout",
     "output_type": "stream",
     "text": [
      "Downloading data from http://fashion-mnist.s3-website.eu-central-1.amazonaws.com/train-labels-idx1-ubyte.gz\n",
      "32768/29515 [=================================] - 0s 0us/step\n",
      "Downloading data from http://fashion-mnist.s3-website.eu-central-1.amazonaws.com/train-images-idx3-ubyte.gz\n",
      "26427392/26421880 [==============================] - 3s 0us/step\n",
      "Downloading data from http://fashion-mnist.s3-website.eu-central-1.amazonaws.com/t10k-labels-idx1-ubyte.gz\n",
      "8192/5148 [===============================================] - 0s 0us/step\n",
      "Downloading data from http://fashion-mnist.s3-website.eu-central-1.amazonaws.com/t10k-images-idx3-ubyte.gz\n",
      "4423680/4422102 [==============================] - 1s 0us/step\n"
     ]
    }
   ],
   "source": [
    "(x_train, y_train), (x_test, y_test) = fashion_mnist.load_data()"
   ]
  },
  {
   "cell_type": "code",
   "execution_count": 3,
   "metadata": {},
   "outputs": [],
   "source": [
    "def rotation_cv(x):\n",
    "    rotation = []\n",
    "    for i in range(len(x)):\n",
    "        n,rows,cols = x.shape\n",
    "        M = cv2.getRotationMatrix2D((cols/2,rows/2),random.randint(30,330),1)\n",
    "        dst = cv2.warpAffine(x[i],M,(cols,rows))\n",
    "        rotation.append(dst)\n",
    "    return rotation"
   ]
  },
  {
   "cell_type": "code",
   "execution_count": 4,
   "metadata": {},
   "outputs": [],
   "source": [
    "def translate_cv(x):\n",
    "    trans = []\n",
    "    for i in range(len(x)):\n",
    "        n,rows,cols = x.shape\n",
    "        N = np.float32([[1,0,5],[0,1,4]])\n",
    "        dst = cv2.warpAffine(x[i],N,(cols,rows))\n",
    "        trans.append(dst)\n",
    "    return trans"
   ]
  },
  {
   "cell_type": "code",
   "execution_count": 5,
   "metadata": {},
   "outputs": [],
   "source": [
    "def gaussian_blur(x):\n",
    "    blur = []\n",
    "    for i in range(len(x)):\n",
    "        n,rows,cols = x.shape\n",
    "        blur.append(cv2.GaussianBlur(x[i],(5,5),0))\n",
    "    return blur\n",
    "    "
   ]
  },
  {
   "cell_type": "code",
   "execution_count": 6,
   "metadata": {},
   "outputs": [],
   "source": [
    "def bilat(x):\n",
    "    bilat = []\n",
    "    for i in range(len(x)):\n",
    "        n,rows,cols = x.shape\n",
    "        bilat.append(cv2.bilateralFilter(x[i],5,50,50))\n",
    "    return bilat"
   ]
  },
  {
   "cell_type": "code",
   "execution_count": 7,
   "metadata": {},
   "outputs": [],
   "source": [
    "gauss_blur = np.reshape(gaussian_blur(x_train), (-1,28, 28))\n",
    "rot = np.reshape(rotation_cv(x_train), (-1,28, 28))\n",
    "bilat_blur = np.reshape(bilat(x_train), (-1,28, 28))\n",
    "trans  = np.reshape(translate_cv(x_train), (-1,28, 28))"
   ]
  },
  {
   "cell_type": "code",
   "execution_count": 8,
   "metadata": {},
   "outputs": [],
   "source": [
    "samp = x_train.copy()"
   ]
  },
  {
   "cell_type": "code",
   "execution_count": 18,
   "metadata": {},
   "outputs": [],
   "source": [
    "y_train_final = np.concatenate((y_train,y_train,y_train,y_train,y_train),0)\n",
    "x_train_final = np.concatenate((samp,gauss_blur,rot,bilat_blur,trans),0)"
   ]
  },
  {
   "cell_type": "code",
   "execution_count": 19,
   "metadata": {},
   "outputs": [],
   "source": [
    "x_train_final, y_train_final = shuffle(x_train_final, y_train_final, random_state=0)"
   ]
  }
 ],
 "metadata": {
  "kernelspec": {
   "display_name": "tensorflow_env",
   "language": "python",
   "name": "tensorflow_env"
  },
  "language_info": {
   "codemirror_mode": {
    "name": "ipython",
    "version": 3
   },
   "file_extension": ".py",
   "mimetype": "text/x-python",
   "name": "python",
   "nbconvert_exporter": "python",
   "pygments_lexer": "ipython3",
   "version": "3.7.3"
  }
 },
 "nbformat": 4,
 "nbformat_minor": 2
}

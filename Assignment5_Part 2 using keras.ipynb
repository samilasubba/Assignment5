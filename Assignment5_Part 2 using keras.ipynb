{
 "cells": [
  {
   "cell_type": "code",
   "execution_count": 4,
   "metadata": {},
   "outputs": [],
   "source": [
    "import keras \n",
    "import numpy as np\n",
    "from keras.datasets import fashion_mnist\n",
    "import tensorflow as tf"
   ]
  },
  {
   "cell_type": "code",
   "execution_count": 5,
   "metadata": {},
   "outputs": [],
   "source": [
    "(x_train, y_train), (x_test, y_test) = fashion_mnist.load_data()"
   ]
  },
  {
   "cell_type": "code",
   "execution_count": 6,
   "metadata": {},
   "outputs": [
    {
     "data": {
      "text/plain": [
       "(60000, 28, 28)"
      ]
     },
     "execution_count": 6,
     "metadata": {},
     "output_type": "execute_result"
    }
   ],
   "source": [
    "x_train.shape"
   ]
  },
  {
   "cell_type": "code",
   "execution_count": 7,
   "metadata": {},
   "outputs": [],
   "source": [
    "X_train = x_train.reshape(60000,28,28,1)\n",
    "X_test = x_test.reshape(10000,28,28,1)\n"
   ]
  },
  {
   "cell_type": "code",
   "execution_count": 8,
   "metadata": {},
   "outputs": [],
   "source": [
    "from keras.utils import to_categorical\n",
    "#one-hot encode target column\n",
    "y_train = to_categorical(y_train)\n",
    "y_test = to_categorical(y_test)"
   ]
  },
  {
   "cell_type": "code",
   "execution_count": 10,
   "metadata": {},
   "outputs": [],
   "source": [
    "from keras.models import Sequential\n",
    "from keras.layers import Dense, Conv2D, Flatten,MaxPooling2D\n",
    "#create model\n",
    "model = Sequential()\n",
    "#add model layers\n",
    "model.add(Conv2D(32, kernel_size=3, activation='relu', input_shape=(28,28,1)))\n",
    "model.add(MaxPooling2D(pool_size=(2, 2), strides=(2, 2)))\n",
    "model.add(Conv2D(64, kernel_size=3, activation='relu'))\n",
    "model.add(MaxPooling2D(pool_size=(2, 2)))\n",
    "model.add(Conv2D(128, kernel_size=3, activation='relu'))\n",
    "model.add(MaxPooling2D(pool_size=(2, 2)))\n",
    "\n",
    "model.add(Flatten())\n",
    "model.add(Dense(10, activation='softmax'))"
   ]
  },
  {
   "cell_type": "code",
   "execution_count": 12,
   "metadata": {},
   "outputs": [],
   "source": [
    "#compile model using accuracy to measure model performance\n",
    "model.compile(optimizer='adam', loss='categorical_crossentropy', metrics=['accuracy'])"
   ]
  },
  {
   "cell_type": "code",
   "execution_count": 13,
   "metadata": {},
   "outputs": [
    {
     "name": "stdout",
     "output_type": "stream",
     "text": [
      "WARNING:tensorflow:From /home/samila/tensorflow_env/lib/python3.7/site-packages/tensorflow/python/ops/math_ops.py:3066: to_int32 (from tensorflow.python.ops.math_ops) is deprecated and will be removed in a future version.\n",
      "Instructions for updating:\n",
      "Use tf.cast instead.\n",
      "Train on 60000 samples, validate on 10000 samples\n",
      "Epoch 1/3\n",
      "60000/60000 [==============================] - 29s 483us/step - loss: 1.2341 - acc: 0.7756 - val_loss: 0.4388 - val_acc: 0.8410\n",
      "Epoch 2/3\n",
      "60000/60000 [==============================] - 30s 498us/step - loss: 0.3944 - acc: 0.8548 - val_loss: 0.3921 - val_acc: 0.8561\n",
      "Epoch 3/3\n",
      "60000/60000 [==============================] - 30s 494us/step - loss: 0.3534 - acc: 0.8689 - val_loss: 0.3989 - val_acc: 0.8542\n"
     ]
    },
    {
     "data": {
      "text/plain": [
       "<keras.callbacks.History at 0x7fa4b108c630>"
      ]
     },
     "execution_count": 13,
     "metadata": {},
     "output_type": "execute_result"
    }
   ],
   "source": [
    "model.fit(X_train, y_train, validation_data=(X_test, y_test), epochs=3)"
   ]
  },
  {
   "cell_type": "code",
   "execution_count": 14,
   "metadata": {},
   "outputs": [],
   "source": [
    "predictions = model.predict(X_test)"
   ]
  },
  {
   "cell_type": "markdown",
   "metadata": {},
   "source": [
    "# Early Stopping"
   ]
  },
  {
   "cell_type": "code",
   "execution_count": 15,
   "metadata": {},
   "outputs": [],
   "source": [
    "from keras import callbacks\n",
    "estop = keras.callbacks.EarlyStopping(monitor='val_loss', min_delta=0, patience=10, verbose=1, mode='auto')"
   ]
  },
  {
   "cell_type": "code",
   "execution_count": 16,
   "metadata": {},
   "outputs": [
    {
     "name": "stdout",
     "output_type": "stream",
     "text": [
      "Train on 60000 samples, validate on 10000 samples\n",
      "Epoch 1/500\n",
      "60000/60000 [==============================] - 29s 485us/step - loss: 0.2790 - acc: 0.8949 - val_loss: 0.3491 - val_acc: 0.8736\n",
      "Epoch 2/500\n",
      "60000/60000 [==============================] - 27s 444us/step - loss: 0.2586 - acc: 0.9019 - val_loss: 0.3571 - val_acc: 0.8717\n",
      "Epoch 3/500\n",
      "60000/60000 [==============================] - 27s 451us/step - loss: 0.2430 - acc: 0.9075 - val_loss: 0.3698 - val_acc: 0.8761\n",
      "Epoch 4/500\n",
      "60000/60000 [==============================] - 27s 450us/step - loss: 0.2352 - acc: 0.9112 - val_loss: 0.3662 - val_acc: 0.8757\n",
      "Epoch 5/500\n",
      "60000/60000 [==============================] - 29s 475us/step - loss: 0.2257 - acc: 0.9133 - val_loss: 0.3733 - val_acc: 0.8723\n",
      "Epoch 6/500\n",
      "60000/60000 [==============================] - 29s 479us/step - loss: 0.2157 - acc: 0.9183 - val_loss: 0.3939 - val_acc: 0.8735\n",
      "Epoch 7/500\n",
      "60000/60000 [==============================] - 29s 480us/step - loss: 0.2019 - acc: 0.9229 - val_loss: 0.4045 - val_acc: 0.8763\n",
      "Epoch 8/500\n",
      "60000/60000 [==============================] - 28s 468us/step - loss: 0.1916 - acc: 0.9276 - val_loss: 0.4191 - val_acc: 0.8722\n",
      "Epoch 9/500\n",
      "60000/60000 [==============================] - 31s 517us/step - loss: 0.1814 - acc: 0.9311 - val_loss: 0.4376 - val_acc: 0.8735\n",
      "Epoch 10/500\n",
      "60000/60000 [==============================] - 29s 476us/step - loss: 0.1760 - acc: 0.9329 - val_loss: 0.4579 - val_acc: 0.8640\n",
      "Epoch 11/500\n",
      "60000/60000 [==============================] - 29s 487us/step - loss: 0.1692 - acc: 0.9358 - val_loss: 0.4405 - val_acc: 0.8738\n",
      "Epoch 00011: early stopping\n"
     ]
    }
   ],
   "source": [
    "train_history = model.fit(X_train, y_train, epochs=500, batch_size=100, validation_data=(X_test, y_test), callbacks=[estop])"
   ]
  },
  {
   "cell_type": "markdown",
   "metadata": {},
   "source": [
    "# ReduceLRonPlateau"
   ]
  },
  {
   "cell_type": "code",
   "execution_count": 17,
   "metadata": {},
   "outputs": [],
   "source": [
    "from keras.callbacks import ReduceLROnPlateau"
   ]
  },
  {
   "cell_type": "code",
   "execution_count": 18,
   "metadata": {},
   "outputs": [
    {
     "name": "stdout",
     "output_type": "stream",
     "text": [
      "Epoch 1/1\n",
      "60000/60000 [==============================] - 27s 456us/step - loss: 0.2833 - acc: 0.8975\n"
     ]
    },
    {
     "name": "stderr",
     "output_type": "stream",
     "text": [
      "/home/samila/tensorflow_env/lib/python3.7/site-packages/keras/callbacks.py:1109: RuntimeWarning: Reduce LR on plateau conditioned on metric `val_loss` which is not available. Available metrics are: loss,acc,lr\n",
      "  (self.monitor, ','.join(list(logs.keys()))), RuntimeWarning\n"
     ]
    },
    {
     "data": {
      "text/plain": [
       "<keras.callbacks.History at 0x7fa4b0391080>"
      ]
     },
     "execution_count": 18,
     "metadata": {},
     "output_type": "execute_result"
    }
   ],
   "source": [
    "reduce_lr = ReduceLROnPlateau(monitor='val_loss', factor=0.2,\n",
    "                              patience=5, min_lr=0.01)\n",
    "model.fit(X_train, y_train, callbacks=[reduce_lr])"
   ]
  }
 ],
 "metadata": {
  "kernelspec": {
   "display_name": "tensorflow_env",
   "language": "python",
   "name": "tensorflow_env"
  },
  "language_info": {
   "codemirror_mode": {
    "name": "ipython",
    "version": 3
   },
   "file_extension": ".py",
   "mimetype": "text/x-python",
   "name": "python",
   "nbconvert_exporter": "python",
   "pygments_lexer": "ipython3",
   "version": "3.7.3"
  }
 },
 "nbformat": 4,
 "nbformat_minor": 2
}
